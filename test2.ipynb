{
 "cells": [
  {
   "cell_type": "code",
   "execution_count": 2,
   "id": "5d8ab2cf",
   "metadata": {},
   "outputs": [
    {
     "name": "stdout",
     "output_type": "stream",
     "text": [
      "[[1 5]\n",
      " [2 6]\n",
      " [4 8]\n",
      " [5 9]\n",
      " [1 5]\n",
      " [2 6]\n",
      " [4 8]\n",
      " [5 9]\n",
      " [1 4]\n",
      " [2 5]\n",
      " [4 7]\n",
      " [5 8]\n",
      " [2 5]\n",
      " [3 6]\n",
      " [5 8]\n",
      " [6 9]\n",
      " [4 5]\n",
      " [5 6]\n",
      " [7 8]\n",
      " [8 9]\n",
      " [1 2]\n",
      " [2 3]\n",
      " [4 5]\n",
      " [5 6]]\n"
     ]
    }
   ],
   "source": [
    "from lib import *\n",
    "from mesh import auxstructure\n",
    "\n",
    "elem = np.array([[4,5,1],[5,6,2],[7,8,4],[8,9,5],[2,1,5],[3,2,6],[5,4,8],[6,5,9]])\n",
    "#print(elem[:,[1,2]])#\n",
    "totaledge,edge,i,j = auxstructure(elem)\n",
    "print(totaledge)"
   ]
  }
 ],
 "metadata": {
  "kernelspec": {
   "display_name": "Python 3 (ipykernel)",
   "language": "python",
   "name": "python3"
  },
  "language_info": {
   "codemirror_mode": {
    "name": "ipython",
    "version": 3
   },
   "file_extension": ".py",
   "mimetype": "text/x-python",
   "name": "python",
   "nbconvert_exporter": "python",
   "pygments_lexer": "ipython3",
   "version": "3.9.13"
  }
 },
 "nbformat": 4,
 "nbformat_minor": 5
}
