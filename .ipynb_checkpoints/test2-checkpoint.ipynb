{
 "cells": [
  {
   "cell_type": "code",
   "execution_count": 19,
   "id": "5d8ab2cf",
   "metadata": {},
   "outputs": [
    {
     "name": "stdout",
     "output_type": "stream",
     "text": [
      "(3, 1, 8, 2)\n"
     ]
    }
   ],
   "source": [
    "from lib import *\n",
    "from mesh import auxstructure\n",
    "\n",
    "elem = np.array([[4,5,1],[5,6,2],[7,8,4],[8,9,5],[2,1,5],[3,2,6],[5,4,8],[6,5,9]])\n",
    "#print(elem[:,[1,2]])#\n",
    "totaledge,edge,i,j = auxstructure(elem)\n",
    "print(totaledge.shape)"
   ]
  },
  {
   "cell_type": "code",
   "execution_count": 2,
   "id": "7d5c17b3",
   "metadata": {},
   "outputs": [
    {
     "data": {
      "text/plain": [
       "(8, 3)"
      ]
     },
     "execution_count": 2,
     "metadata": {},
     "output_type": "execute_result"
    }
   ],
   "source": [
    "elem.shape"
   ]
  },
  {
   "cell_type": "code",
   "execution_count": 16,
   "id": "88d5c468",
   "metadata": {},
   "outputs": [
    {
     "name": "stdout",
     "output_type": "stream",
     "text": [
      "[[5 1]\n",
      " [6 2]\n",
      " [8 4]\n",
      " [9 5]\n",
      " [1 5]\n",
      " [2 6]\n",
      " [4 8]\n",
      " [5 9]\n",
      " [1 4]\n",
      " [2 5]\n",
      " [4 7]\n",
      " [5 8]\n",
      " [5 2]\n",
      " [6 3]\n",
      " [8 5]\n",
      " [9 6]\n",
      " [4 5]\n",
      " [5 6]\n",
      " [7 8]\n",
      " [8 9]\n",
      " [2 1]\n",
      " [3 2]\n",
      " [5 4]\n",
      " [6 5]]\n"
     ]
    }
   ],
   "source": [
    "print(np.concatenate((elem[:,[1,2]],elem[:,[2,0]],elem[:,[0,1]]),axis=0))"
   ]
  }
 ],
 "metadata": {
  "kernelspec": {
   "display_name": "Python 3 (ipykernel)",
   "language": "python",
   "name": "python3"
  },
  "language_info": {
   "codemirror_mode": {
    "name": "ipython",
    "version": 3
   },
   "file_extension": ".py",
   "mimetype": "text/x-python",
   "name": "python",
   "nbconvert_exporter": "python",
   "pygments_lexer": "ipython3",
   "version": "3.9.13"
  }
 },
 "nbformat": 4,
 "nbformat_minor": 5
}
