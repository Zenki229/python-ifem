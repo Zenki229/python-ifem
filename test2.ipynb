{
 "cells": [
  {
   "cell_type": "code",
   "execution_count": 3,
   "id": "5d8ab2cf",
   "metadata": {
    "scrolled": true
   },
   "outputs": [],
   "source": [
    "import numpy as np\n",
    "from scipy.spatial import Delaunay\n",
    "from plotly import graph_objects"
   ]
  },
  {
   "cell_type": "code",
   "execution_count": 4,
   "id": "92e6784e",
   "metadata": {},
   "outputs": [],
   "source": [
    "from plotly.figure_factory import create_trisurf"
   ]
  },
  {
   "cell_type": "code",
   "execution_count": 35,
   "id": "fb9a8044",
   "metadata": {},
   "outputs": [],
   "source": [
    "u = np.linspace(0,1, 5)\n",
    "v = np.linspace(0,1, 5)\n",
    "u,v = np.meshgrid(u,v)\n",
    "u = u.flatten()\n",
    "v = v.flatten()\n"
   ]
  },
  {
   "cell_type": "code",
   "execution_count": 36,
   "id": "a8add1c4",
   "metadata": {},
   "outputs": [
    {
     "name": "stdout",
     "output_type": "stream",
     "text": [
      "(25,) (25,)\n"
     ]
    }
   ],
   "source": [
    "print(u.shape,v.shape)"
   ]
  },
  {
   "cell_type": "code",
   "execution_count": 47,
   "id": "dca79622",
   "metadata": {},
   "outputs": [],
   "source": [
    "x = u\n",
    "y = v\n",
    "z = 0*x"
   ]
  },
  {
   "cell_type": "code",
   "execution_count": 44,
   "id": "6f753129",
   "metadata": {},
   "outputs": [
    {
     "name": "stdout",
     "output_type": "stream",
     "text": [
      "(25,)\n"
     ]
    }
   ],
   "source": [
    "print(x.shape)"
   ]
  },
  {
   "cell_type": "code",
   "execution_count": 48,
   "id": "e08095c3",
   "metadata": {},
   "outputs": [],
   "source": [
    "points2D = np.vstack([u,v]).T\n",
    "tri = Delaunay(points2D)\n",
    "simplices = tri.simplices"
   ]
  },
  {
   "cell_type": "code",
   "execution_count": 40,
   "id": "7b1e05af",
   "metadata": {},
   "outputs": [
    {
     "name": "stdout",
     "output_type": "stream",
     "text": [
      "[[ 1  5  0]\n",
      " [ 5  1  6]\n",
      " [15 21 20]\n",
      " [21 15 16]\n",
      " [11  5  6]\n",
      " [ 5 11 10]\n",
      " [15 11 16]\n",
      " [11 15 10]\n",
      " [ 9  3  4]\n",
      " [ 3  9  8]\n",
      " [ 7 11  6]\n",
      " [11  7 12]\n",
      " [ 1  7  6]\n",
      " [ 7  1  2]\n",
      " [ 7  3  8]\n",
      " [ 3  7  2]\n",
      " [23 19 24]\n",
      " [19 23 18]\n",
      " [17 11 12]\n",
      " [11 17 16]\n",
      " [17 21 16]\n",
      " [21 17 22]\n",
      " [23 17 18]\n",
      " [17 23 22]\n",
      " [13  7  8]\n",
      " [ 7 13 12]\n",
      " [17 13 18]\n",
      " [13 17 12]\n",
      " [ 9 13  8]\n",
      " [13  9 14]\n",
      " [13 19 18]\n",
      " [19 13 14]]\n"
     ]
    }
   ],
   "source": [
    "print(simplices)"
   ]
  },
  {
   "cell_type": "code",
   "execution_count": 49,
   "id": "66753f6b",
   "metadata": {},
   "outputs": [
    {
     "ename": "PlotlyError",
     "evalue": "Incorrect relation between vmin and vmax. The vmin value cannot be bigger than or equal to the value of vmax.",
     "output_type": "error",
     "traceback": [
      "\u001b[0;31m---------------------------------------------------------------------------\u001b[0m",
      "\u001b[0;31mPlotlyError\u001b[0m                               Traceback (most recent call last)",
      "\u001b[0;32m/tmp/ipykernel_881833/4261846281.py\u001b[0m in \u001b[0;36m<module>\u001b[0;34m\u001b[0m\n\u001b[1;32m      1\u001b[0m \u001b[0;31m# Create a figure\u001b[0m\u001b[0;34m\u001b[0m\u001b[0;34m\u001b[0m\u001b[0m\n\u001b[0;32m----> 2\u001b[0;31m fig1 = create_trisurf(x=x, y=y, z=z, colormap=\"Rainbow\",\n\u001b[0m\u001b[1;32m      3\u001b[0m                       simplices=simplices)\n",
      "\u001b[0;32m~/anaconda3/envs/myenv/lib/python3.9/site-packages/plotly/figure_factory/_trisurf.py\u001b[0m in \u001b[0;36mcreate_trisurf\u001b[0;34m(x, y, z, simplices, colormap, show_colorbar, scale, color_func, title, plot_edges, showbackground, backgroundcolor, gridcolor, zerolinecolor, edges_color, height, width, aspectratio)\u001b[0m\n\u001b[1;32m    476\u001b[0m     )\n\u001b[1;32m    477\u001b[0m \u001b[0;34m\u001b[0m\u001b[0m\n\u001b[0;32m--> 478\u001b[0;31m     data1 = trisurf(\n\u001b[0m\u001b[1;32m    479\u001b[0m         \u001b[0mx\u001b[0m\u001b[0;34m,\u001b[0m\u001b[0;34m\u001b[0m\u001b[0;34m\u001b[0m\u001b[0m\n\u001b[1;32m    480\u001b[0m         \u001b[0my\u001b[0m\u001b[0;34m,\u001b[0m\u001b[0;34m\u001b[0m\u001b[0;34m\u001b[0m\u001b[0m\n",
      "\u001b[0;32m~/anaconda3/envs/myenv/lib/python3.9/site-packages/plotly/figure_factory/_trisurf.py\u001b[0m in \u001b[0;36mtrisurf\u001b[0;34m(x, y, z, simplices, show_colorbar, edges_color, scale, colormap, color_func, plot_edges, x_edge, y_edge, z_edge, facecolor)\u001b[0m\n\u001b[1;32m    150\u001b[0m             \u001b[0mfacecolor\u001b[0m \u001b[0;34m=\u001b[0m \u001b[0;34m[\u001b[0m\u001b[0;34m]\u001b[0m\u001b[0;34m\u001b[0m\u001b[0;34m\u001b[0m\u001b[0m\n\u001b[1;32m    151\u001b[0m         \u001b[0;32mfor\u001b[0m \u001b[0mindex\u001b[0m \u001b[0;32min\u001b[0m \u001b[0mrange\u001b[0m\u001b[0;34m(\u001b[0m\u001b[0mlen\u001b[0m\u001b[0;34m(\u001b[0m\u001b[0mmean_dists\u001b[0m\u001b[0;34m)\u001b[0m\u001b[0;34m)\u001b[0m\u001b[0;34m:\u001b[0m\u001b[0;34m\u001b[0m\u001b[0;34m\u001b[0m\u001b[0m\n\u001b[0;32m--> 152\u001b[0;31m             color = map_face2color(\n\u001b[0m\u001b[1;32m    153\u001b[0m                 \u001b[0mmean_dists\u001b[0m\u001b[0;34m[\u001b[0m\u001b[0mindex\u001b[0m\u001b[0;34m]\u001b[0m\u001b[0;34m,\u001b[0m \u001b[0mcolormap\u001b[0m\u001b[0;34m,\u001b[0m \u001b[0mscale\u001b[0m\u001b[0;34m,\u001b[0m \u001b[0mmin_mean_dists\u001b[0m\u001b[0;34m,\u001b[0m \u001b[0mmax_mean_dists\u001b[0m\u001b[0;34m\u001b[0m\u001b[0;34m\u001b[0m\u001b[0m\n\u001b[1;32m    154\u001b[0m             )\n",
      "\u001b[0;32m~/anaconda3/envs/myenv/lib/python3.9/site-packages/plotly/figure_factory/_trisurf.py\u001b[0m in \u001b[0;36mmap_face2color\u001b[0;34m(face, colormap, scale, vmin, vmax)\u001b[0m\n\u001b[1;32m     19\u001b[0m     \"\"\"\n\u001b[1;32m     20\u001b[0m     \u001b[0;32mif\u001b[0m \u001b[0mvmin\u001b[0m \u001b[0;34m>=\u001b[0m \u001b[0mvmax\u001b[0m\u001b[0;34m:\u001b[0m\u001b[0;34m\u001b[0m\u001b[0;34m\u001b[0m\u001b[0m\n\u001b[0;32m---> 21\u001b[0;31m         raise exceptions.PlotlyError(\n\u001b[0m\u001b[1;32m     22\u001b[0m             \u001b[0;34m\"Incorrect relation between vmin \"\u001b[0m\u001b[0;34m\u001b[0m\u001b[0;34m\u001b[0m\u001b[0m\n\u001b[1;32m     23\u001b[0m             \u001b[0;34m\"and vmax. The vmin value cannot be \"\u001b[0m\u001b[0;34m\u001b[0m\u001b[0;34m\u001b[0m\u001b[0m\n",
      "\u001b[0;31mPlotlyError\u001b[0m: Incorrect relation between vmin and vmax. The vmin value cannot be bigger than or equal to the value of vmax."
     ]
    }
   ],
   "source": [
    "# Create a figure\n",
    "fig1 = create_trisurf(x=x, y=y, z=z, colormap=\"Rainbow\",\n",
    "                      simplices=simplices)"
   ]
  },
  {
   "cell_type": "code",
   "execution_count": 42,
   "id": "3d64183c",
   "metadata": {},
   "outputs": [
    {
     "data": {
      "application/vnd.plotly.v1+json": {
       "config": {
        "plotlyServerURL": "https://plot.ly"
       },
       "data": [
        {
         "facecolor": [
          "rgb(150, 0, 90)",
          "rgb(0, 16, 236)",
          "rgb(150, 0, 90)",
          "rgb(0, 16, 236)",
          "rgb(44, 255, 150)",
          "rgb(0, 69, 255)",
          "rgb(44, 255, 150)",
          "rgb(0, 69, 255)",
          "rgb(150, 0, 90)",
          "rgb(0, 16, 236)",
          "rgb(255, 192, 0)",
          "rgb(255, 0, 0)",
          "rgb(44, 255, 150)",
          "rgb(0, 69, 255)",
          "rgb(44, 255, 150)",
          "rgb(0, 69, 255)",
          "rgb(150, 0, 90)",
          "rgb(0, 16, 236)",
          "rgb(255, 0, 0)",
          "rgb(255, 192, 0)",
          "rgb(44, 255, 150)",
          "rgb(0, 69, 255)",
          "rgb(44, 255, 150)",
          "rgb(0, 69, 255)",
          "rgb(255, 192, 0)",
          "rgb(255, 0, 0)",
          "rgb(255, 192, 0)",
          "rgb(255, 0, 0)",
          "rgb(44, 255, 150)",
          "rgb(0, 69, 255)",
          "rgb(44, 255, 150)",
          "rgb(0, 69, 255)"
         ],
         "i": [
          1,
          5,
          15,
          21,
          11,
          5,
          15,
          11,
          9,
          3,
          7,
          11,
          1,
          7,
          7,
          3,
          23,
          19,
          17,
          11,
          17,
          21,
          23,
          17,
          13,
          7,
          17,
          13,
          9,
          13,
          13,
          19
         ],
         "j": [
          5,
          1,
          21,
          15,
          5,
          11,
          11,
          15,
          3,
          9,
          11,
          7,
          7,
          1,
          3,
          7,
          19,
          23,
          11,
          17,
          21,
          17,
          17,
          23,
          7,
          13,
          13,
          17,
          13,
          9,
          19,
          13
         ],
         "k": [
          0,
          6,
          20,
          16,
          6,
          10,
          16,
          10,
          4,
          8,
          6,
          12,
          6,
          2,
          8,
          2,
          24,
          18,
          12,
          16,
          16,
          22,
          18,
          22,
          8,
          12,
          18,
          12,
          8,
          14,
          18,
          14
         ],
         "name": "",
         "type": "mesh3d",
         "x": [
          0,
          0.25,
          0.5,
          0.75,
          1,
          0,
          0.25,
          0.5,
          0.75,
          1,
          0,
          0.25,
          0.5,
          0.75,
          1,
          0,
          0.25,
          0.5,
          0.75,
          1,
          0,
          0.25,
          0.5,
          0.75,
          1
         ],
         "y": [
          0,
          0,
          0,
          0,
          0,
          0.25,
          0.25,
          0.25,
          0.25,
          0.25,
          0.5,
          0.5,
          0.5,
          0.5,
          0.5,
          0.75,
          0.75,
          0.75,
          0.75,
          0.75,
          1,
          1,
          1,
          1,
          1
         ],
         "z": [
          0,
          0,
          0,
          0,
          0,
          0,
          0.4999999999999999,
          0.7071067811865475,
          0.5,
          8.659560562354932e-17,
          0,
          0.7071067811865475,
          1,
          0.7071067811865476,
          1.2246467991473532e-16,
          0,
          0.5,
          0.7071067811865476,
          0.5000000000000001,
          8.659560562354934e-17,
          0,
          8.659560562354932e-17,
          1.2246467991473532e-16,
          8.659560562354934e-17,
          1.4997597826618576e-32
         ]
        },
        {
         "line": {
          "color": "rgb(50, 50, 50)",
          "width": 1.5
         },
         "mode": "lines",
         "showlegend": false,
         "type": "scatter3d",
         "x": [
          0.25,
          0,
          0,
          0.25,
          null,
          0,
          0.25,
          0.25,
          0,
          null,
          0,
          0.25,
          0,
          0,
          null,
          0.25,
          0,
          0.25,
          0.25,
          null,
          0.25,
          0,
          0.25,
          0.25,
          null,
          0,
          0.25,
          0,
          0,
          null,
          0,
          0.25,
          0.25,
          0,
          null,
          0.25,
          0,
          0,
          0.25,
          null,
          1,
          0.75,
          1,
          1,
          null,
          0.75,
          1,
          0.75,
          0.75,
          null,
          0.5,
          0.25,
          0.25,
          0.5,
          null,
          0.25,
          0.5,
          0.5,
          0.25,
          null,
          0.25,
          0.5,
          0.25,
          0.25,
          null,
          0.5,
          0.25,
          0.5,
          0.5,
          null,
          0.5,
          0.75,
          0.75,
          0.5,
          null,
          0.75,
          0.5,
          0.5,
          0.75,
          null,
          0.75,
          1,
          1,
          0.75,
          null,
          1,
          0.75,
          0.75,
          1,
          null,
          0.5,
          0.25,
          0.5,
          0.5,
          null,
          0.25,
          0.5,
          0.25,
          0.25,
          null,
          0.5,
          0.25,
          0.25,
          0.5,
          null,
          0.25,
          0.5,
          0.5,
          0.25,
          null,
          0.75,
          0.5,
          0.75,
          0.75,
          null,
          0.5,
          0.75,
          0.5,
          0.5,
          null,
          0.75,
          0.5,
          0.75,
          0.75,
          null,
          0.5,
          0.75,
          0.5,
          0.5,
          null,
          0.5,
          0.75,
          0.75,
          0.5,
          null,
          0.75,
          0.5,
          0.5,
          0.75,
          null,
          1,
          0.75,
          0.75,
          1,
          null,
          0.75,
          1,
          1,
          0.75,
          null,
          0.75,
          1,
          0.75,
          0.75,
          null,
          1,
          0.75,
          1,
          1,
          null
         ],
         "y": [
          0,
          0.25,
          0,
          0,
          null,
          0.25,
          0,
          0.25,
          0.25,
          null,
          0.75,
          1,
          1,
          0.75,
          null,
          1,
          0.75,
          0.75,
          1,
          null,
          0.5,
          0.25,
          0.25,
          0.5,
          null,
          0.25,
          0.5,
          0.5,
          0.25,
          null,
          0.75,
          0.5,
          0.75,
          0.75,
          null,
          0.5,
          0.75,
          0.5,
          0.5,
          null,
          0.25,
          0,
          0,
          0.25,
          null,
          0,
          0.25,
          0.25,
          0,
          null,
          0.25,
          0.5,
          0.25,
          0.25,
          null,
          0.5,
          0.25,
          0.5,
          0.5,
          null,
          0,
          0.25,
          0.25,
          0,
          null,
          0.25,
          0,
          0,
          0.25,
          null,
          0.25,
          0,
          0.25,
          0.25,
          null,
          0,
          0.25,
          0,
          0,
          null,
          1,
          0.75,
          1,
          1,
          null,
          0.75,
          1,
          0.75,
          0.75,
          null,
          0.75,
          0.5,
          0.5,
          0.75,
          null,
          0.5,
          0.75,
          0.75,
          0.5,
          null,
          0.75,
          1,
          0.75,
          0.75,
          null,
          1,
          0.75,
          1,
          1,
          null,
          1,
          0.75,
          0.75,
          1,
          null,
          0.75,
          1,
          1,
          0.75,
          null,
          0.5,
          0.25,
          0.25,
          0.5,
          null,
          0.25,
          0.5,
          0.5,
          0.25,
          null,
          0.75,
          0.5,
          0.75,
          0.75,
          null,
          0.5,
          0.75,
          0.5,
          0.5,
          null,
          0.25,
          0.5,
          0.25,
          0.25,
          null,
          0.5,
          0.25,
          0.5,
          0.5,
          null,
          0.5,
          0.75,
          0.75,
          0.5,
          null,
          0.75,
          0.5,
          0.5,
          0.75,
          null
         ],
         "z": [
          0,
          0,
          0,
          0,
          null,
          0,
          0,
          0.4999999999999999,
          0,
          null,
          0,
          8.659560562354932e-17,
          0,
          0,
          null,
          8.659560562354932e-17,
          0,
          0.5,
          8.659560562354932e-17,
          null,
          0.7071067811865475,
          0,
          0.4999999999999999,
          0.7071067811865475,
          null,
          0,
          0.7071067811865475,
          0,
          0,
          null,
          0,
          0.7071067811865475,
          0.5,
          0,
          null,
          0.7071067811865475,
          0,
          0,
          0.7071067811865475,
          null,
          8.659560562354932e-17,
          0,
          0,
          8.659560562354932e-17,
          null,
          0,
          8.659560562354932e-17,
          0.5,
          0,
          null,
          0.7071067811865475,
          0.7071067811865475,
          0.4999999999999999,
          0.7071067811865475,
          null,
          0.7071067811865475,
          0.7071067811865475,
          1,
          0.7071067811865475,
          null,
          0,
          0.7071067811865475,
          0.4999999999999999,
          0,
          null,
          0.7071067811865475,
          0,
          0,
          0.7071067811865475,
          null,
          0.7071067811865475,
          0,
          0.5,
          0.7071067811865475,
          null,
          0,
          0.7071067811865475,
          0,
          0,
          null,
          8.659560562354934e-17,
          8.659560562354934e-17,
          1.4997597826618576e-32,
          8.659560562354934e-17,
          null,
          8.659560562354934e-17,
          8.659560562354934e-17,
          0.5000000000000001,
          8.659560562354934e-17,
          null,
          0.7071067811865476,
          0.7071067811865475,
          1,
          0.7071067811865476,
          null,
          0.7071067811865475,
          0.7071067811865476,
          0.5,
          0.7071067811865475,
          null,
          0.7071067811865476,
          8.659560562354932e-17,
          0.5,
          0.7071067811865476,
          null,
          8.659560562354932e-17,
          0.7071067811865476,
          1.2246467991473532e-16,
          8.659560562354932e-17,
          null,
          8.659560562354934e-17,
          0.7071067811865476,
          0.5000000000000001,
          8.659560562354934e-17,
          null,
          0.7071067811865476,
          8.659560562354934e-17,
          1.2246467991473532e-16,
          0.7071067811865476,
          null,
          0.7071067811865476,
          0.7071067811865475,
          0.5,
          0.7071067811865476,
          null,
          0.7071067811865475,
          0.7071067811865476,
          1,
          0.7071067811865475,
          null,
          0.7071067811865476,
          0.7071067811865476,
          0.5000000000000001,
          0.7071067811865476,
          null,
          0.7071067811865476,
          0.7071067811865476,
          1,
          0.7071067811865476,
          null,
          8.659560562354932e-17,
          0.7071067811865476,
          0.5,
          8.659560562354932e-17,
          null,
          0.7071067811865476,
          8.659560562354932e-17,
          1.2246467991473532e-16,
          0.7071067811865476,
          null,
          0.7071067811865476,
          8.659560562354934e-17,
          0.5000000000000001,
          0.7071067811865476,
          null,
          8.659560562354934e-17,
          0.7071067811865476,
          1.2246467991473532e-16,
          8.659560562354934e-17,
          null
         ]
        },
        {
         "hoverinfo": "none",
         "marker": {
          "color": [
           0,
           0.8047378541243649
          ],
          "colorscale": [
           [
            0,
            "rgb(150, 0, 90)"
           ],
           [
            0.125,
            "rgb(0, 0, 200)"
           ],
           [
            0.25,
            "rgb(0, 25, 255)"
           ],
           [
            0.375,
            "rgb(0, 152, 255)"
           ],
           [
            0.5,
            "rgb(44, 255, 150)"
           ],
           [
            0.625,
            "rgb(151, 255, 0)"
           ],
           [
            0.75,
            "rgb(255, 234, 0)"
           ],
           [
            0.875,
            "rgb(255, 111, 0)"
           ],
           [
            1,
            "rgb(255, 0, 0)"
           ]
          ],
          "showscale": true,
          "size": 0.1
         },
         "mode": "markers",
         "showlegend": false,
         "type": "scatter3d",
         "x": [
          0
         ],
         "y": [
          0
         ],
         "z": [
          0
         ]
        }
       ],
       "layout": {
        "height": 800,
        "scene": {
         "aspectratio": {
          "x": 1,
          "y": 1,
          "z": 1
         },
         "xaxis": {
          "backgroundcolor": "rgb(230, 230, 230)",
          "gridcolor": "rgb(255, 255, 255)",
          "showbackground": true,
          "zerolinecolor": "rgb(255, 255, 255)"
         },
         "yaxis": {
          "backgroundcolor": "rgb(230, 230, 230)",
          "gridcolor": "rgb(255, 255, 255)",
          "showbackground": true,
          "zerolinecolor": "rgb(255, 255, 255)"
         },
         "zaxis": {
          "backgroundcolor": "rgb(230, 230, 230)",
          "gridcolor": "rgb(255, 255, 255)",
          "showbackground": true,
          "zerolinecolor": "rgb(255, 255, 255)"
         }
        },
        "template": {
         "data": {
          "bar": [
           {
            "error_x": {
             "color": "#2a3f5f"
            },
            "error_y": {
             "color": "#2a3f5f"
            },
            "marker": {
             "line": {
              "color": "#E5ECF6",
              "width": 0.5
             },
             "pattern": {
              "fillmode": "overlay",
              "size": 10,
              "solidity": 0.2
             }
            },
            "type": "bar"
           }
          ],
          "barpolar": [
           {
            "marker": {
             "line": {
              "color": "#E5ECF6",
              "width": 0.5
             },
             "pattern": {
              "fillmode": "overlay",
              "size": 10,
              "solidity": 0.2
             }
            },
            "type": "barpolar"
           }
          ],
          "carpet": [
           {
            "aaxis": {
             "endlinecolor": "#2a3f5f",
             "gridcolor": "white",
             "linecolor": "white",
             "minorgridcolor": "white",
             "startlinecolor": "#2a3f5f"
            },
            "baxis": {
             "endlinecolor": "#2a3f5f",
             "gridcolor": "white",
             "linecolor": "white",
             "minorgridcolor": "white",
             "startlinecolor": "#2a3f5f"
            },
            "type": "carpet"
           }
          ],
          "choropleth": [
           {
            "colorbar": {
             "outlinewidth": 0,
             "ticks": ""
            },
            "type": "choropleth"
           }
          ],
          "contour": [
           {
            "colorbar": {
             "outlinewidth": 0,
             "ticks": ""
            },
            "colorscale": [
             [
              0,
              "#0d0887"
             ],
             [
              0.1111111111111111,
              "#46039f"
             ],
             [
              0.2222222222222222,
              "#7201a8"
             ],
             [
              0.3333333333333333,
              "#9c179e"
             ],
             [
              0.4444444444444444,
              "#bd3786"
             ],
             [
              0.5555555555555556,
              "#d8576b"
             ],
             [
              0.6666666666666666,
              "#ed7953"
             ],
             [
              0.7777777777777778,
              "#fb9f3a"
             ],
             [
              0.8888888888888888,
              "#fdca26"
             ],
             [
              1,
              "#f0f921"
             ]
            ],
            "type": "contour"
           }
          ],
          "contourcarpet": [
           {
            "colorbar": {
             "outlinewidth": 0,
             "ticks": ""
            },
            "type": "contourcarpet"
           }
          ],
          "heatmap": [
           {
            "colorbar": {
             "outlinewidth": 0,
             "ticks": ""
            },
            "colorscale": [
             [
              0,
              "#0d0887"
             ],
             [
              0.1111111111111111,
              "#46039f"
             ],
             [
              0.2222222222222222,
              "#7201a8"
             ],
             [
              0.3333333333333333,
              "#9c179e"
             ],
             [
              0.4444444444444444,
              "#bd3786"
             ],
             [
              0.5555555555555556,
              "#d8576b"
             ],
             [
              0.6666666666666666,
              "#ed7953"
             ],
             [
              0.7777777777777778,
              "#fb9f3a"
             ],
             [
              0.8888888888888888,
              "#fdca26"
             ],
             [
              1,
              "#f0f921"
             ]
            ],
            "type": "heatmap"
           }
          ],
          "heatmapgl": [
           {
            "colorbar": {
             "outlinewidth": 0,
             "ticks": ""
            },
            "colorscale": [
             [
              0,
              "#0d0887"
             ],
             [
              0.1111111111111111,
              "#46039f"
             ],
             [
              0.2222222222222222,
              "#7201a8"
             ],
             [
              0.3333333333333333,
              "#9c179e"
             ],
             [
              0.4444444444444444,
              "#bd3786"
             ],
             [
              0.5555555555555556,
              "#d8576b"
             ],
             [
              0.6666666666666666,
              "#ed7953"
             ],
             [
              0.7777777777777778,
              "#fb9f3a"
             ],
             [
              0.8888888888888888,
              "#fdca26"
             ],
             [
              1,
              "#f0f921"
             ]
            ],
            "type": "heatmapgl"
           }
          ],
          "histogram": [
           {
            "marker": {
             "pattern": {
              "fillmode": "overlay",
              "size": 10,
              "solidity": 0.2
             }
            },
            "type": "histogram"
           }
          ],
          "histogram2d": [
           {
            "colorbar": {
             "outlinewidth": 0,
             "ticks": ""
            },
            "colorscale": [
             [
              0,
              "#0d0887"
             ],
             [
              0.1111111111111111,
              "#46039f"
             ],
             [
              0.2222222222222222,
              "#7201a8"
             ],
             [
              0.3333333333333333,
              "#9c179e"
             ],
             [
              0.4444444444444444,
              "#bd3786"
             ],
             [
              0.5555555555555556,
              "#d8576b"
             ],
             [
              0.6666666666666666,
              "#ed7953"
             ],
             [
              0.7777777777777778,
              "#fb9f3a"
             ],
             [
              0.8888888888888888,
              "#fdca26"
             ],
             [
              1,
              "#f0f921"
             ]
            ],
            "type": "histogram2d"
           }
          ],
          "histogram2dcontour": [
           {
            "colorbar": {
             "outlinewidth": 0,
             "ticks": ""
            },
            "colorscale": [
             [
              0,
              "#0d0887"
             ],
             [
              0.1111111111111111,
              "#46039f"
             ],
             [
              0.2222222222222222,
              "#7201a8"
             ],
             [
              0.3333333333333333,
              "#9c179e"
             ],
             [
              0.4444444444444444,
              "#bd3786"
             ],
             [
              0.5555555555555556,
              "#d8576b"
             ],
             [
              0.6666666666666666,
              "#ed7953"
             ],
             [
              0.7777777777777778,
              "#fb9f3a"
             ],
             [
              0.8888888888888888,
              "#fdca26"
             ],
             [
              1,
              "#f0f921"
             ]
            ],
            "type": "histogram2dcontour"
           }
          ],
          "mesh3d": [
           {
            "colorbar": {
             "outlinewidth": 0,
             "ticks": ""
            },
            "type": "mesh3d"
           }
          ],
          "parcoords": [
           {
            "line": {
             "colorbar": {
              "outlinewidth": 0,
              "ticks": ""
             }
            },
            "type": "parcoords"
           }
          ],
          "pie": [
           {
            "automargin": true,
            "type": "pie"
           }
          ],
          "scatter": [
           {
            "fillpattern": {
             "fillmode": "overlay",
             "size": 10,
             "solidity": 0.2
            },
            "type": "scatter"
           }
          ],
          "scatter3d": [
           {
            "line": {
             "colorbar": {
              "outlinewidth": 0,
              "ticks": ""
             }
            },
            "marker": {
             "colorbar": {
              "outlinewidth": 0,
              "ticks": ""
             }
            },
            "type": "scatter3d"
           }
          ],
          "scattercarpet": [
           {
            "marker": {
             "colorbar": {
              "outlinewidth": 0,
              "ticks": ""
             }
            },
            "type": "scattercarpet"
           }
          ],
          "scattergeo": [
           {
            "marker": {
             "colorbar": {
              "outlinewidth": 0,
              "ticks": ""
             }
            },
            "type": "scattergeo"
           }
          ],
          "scattergl": [
           {
            "marker": {
             "colorbar": {
              "outlinewidth": 0,
              "ticks": ""
             }
            },
            "type": "scattergl"
           }
          ],
          "scattermapbox": [
           {
            "marker": {
             "colorbar": {
              "outlinewidth": 0,
              "ticks": ""
             }
            },
            "type": "scattermapbox"
           }
          ],
          "scatterpolar": [
           {
            "marker": {
             "colorbar": {
              "outlinewidth": 0,
              "ticks": ""
             }
            },
            "type": "scatterpolar"
           }
          ],
          "scatterpolargl": [
           {
            "marker": {
             "colorbar": {
              "outlinewidth": 0,
              "ticks": ""
             }
            },
            "type": "scatterpolargl"
           }
          ],
          "scatterternary": [
           {
            "marker": {
             "colorbar": {
              "outlinewidth": 0,
              "ticks": ""
             }
            },
            "type": "scatterternary"
           }
          ],
          "surface": [
           {
            "colorbar": {
             "outlinewidth": 0,
             "ticks": ""
            },
            "colorscale": [
             [
              0,
              "#0d0887"
             ],
             [
              0.1111111111111111,
              "#46039f"
             ],
             [
              0.2222222222222222,
              "#7201a8"
             ],
             [
              0.3333333333333333,
              "#9c179e"
             ],
             [
              0.4444444444444444,
              "#bd3786"
             ],
             [
              0.5555555555555556,
              "#d8576b"
             ],
             [
              0.6666666666666666,
              "#ed7953"
             ],
             [
              0.7777777777777778,
              "#fb9f3a"
             ],
             [
              0.8888888888888888,
              "#fdca26"
             ],
             [
              1,
              "#f0f921"
             ]
            ],
            "type": "surface"
           }
          ],
          "table": [
           {
            "cells": {
             "fill": {
              "color": "#EBF0F8"
             },
             "line": {
              "color": "white"
             }
            },
            "header": {
             "fill": {
              "color": "#C8D4E3"
             },
             "line": {
              "color": "white"
             }
            },
            "type": "table"
           }
          ]
         },
         "layout": {
          "annotationdefaults": {
           "arrowcolor": "#2a3f5f",
           "arrowhead": 0,
           "arrowwidth": 1
          },
          "autotypenumbers": "strict",
          "coloraxis": {
           "colorbar": {
            "outlinewidth": 0,
            "ticks": ""
           }
          },
          "colorscale": {
           "diverging": [
            [
             0,
             "#8e0152"
            ],
            [
             0.1,
             "#c51b7d"
            ],
            [
             0.2,
             "#de77ae"
            ],
            [
             0.3,
             "#f1b6da"
            ],
            [
             0.4,
             "#fde0ef"
            ],
            [
             0.5,
             "#f7f7f7"
            ],
            [
             0.6,
             "#e6f5d0"
            ],
            [
             0.7,
             "#b8e186"
            ],
            [
             0.8,
             "#7fbc41"
            ],
            [
             0.9,
             "#4d9221"
            ],
            [
             1,
             "#276419"
            ]
           ],
           "sequential": [
            [
             0,
             "#0d0887"
            ],
            [
             0.1111111111111111,
             "#46039f"
            ],
            [
             0.2222222222222222,
             "#7201a8"
            ],
            [
             0.3333333333333333,
             "#9c179e"
            ],
            [
             0.4444444444444444,
             "#bd3786"
            ],
            [
             0.5555555555555556,
             "#d8576b"
            ],
            [
             0.6666666666666666,
             "#ed7953"
            ],
            [
             0.7777777777777778,
             "#fb9f3a"
            ],
            [
             0.8888888888888888,
             "#fdca26"
            ],
            [
             1,
             "#f0f921"
            ]
           ],
           "sequentialminus": [
            [
             0,
             "#0d0887"
            ],
            [
             0.1111111111111111,
             "#46039f"
            ],
            [
             0.2222222222222222,
             "#7201a8"
            ],
            [
             0.3333333333333333,
             "#9c179e"
            ],
            [
             0.4444444444444444,
             "#bd3786"
            ],
            [
             0.5555555555555556,
             "#d8576b"
            ],
            [
             0.6666666666666666,
             "#ed7953"
            ],
            [
             0.7777777777777778,
             "#fb9f3a"
            ],
            [
             0.8888888888888888,
             "#fdca26"
            ],
            [
             1,
             "#f0f921"
            ]
           ]
          },
          "colorway": [
           "#636efa",
           "#EF553B",
           "#00cc96",
           "#ab63fa",
           "#FFA15A",
           "#19d3f3",
           "#FF6692",
           "#B6E880",
           "#FF97FF",
           "#FECB52"
          ],
          "font": {
           "color": "#2a3f5f"
          },
          "geo": {
           "bgcolor": "white",
           "lakecolor": "white",
           "landcolor": "#E5ECF6",
           "showlakes": true,
           "showland": true,
           "subunitcolor": "white"
          },
          "hoverlabel": {
           "align": "left"
          },
          "hovermode": "closest",
          "mapbox": {
           "style": "light"
          },
          "paper_bgcolor": "white",
          "plot_bgcolor": "#E5ECF6",
          "polar": {
           "angularaxis": {
            "gridcolor": "white",
            "linecolor": "white",
            "ticks": ""
           },
           "bgcolor": "#E5ECF6",
           "radialaxis": {
            "gridcolor": "white",
            "linecolor": "white",
            "ticks": ""
           }
          },
          "scene": {
           "xaxis": {
            "backgroundcolor": "#E5ECF6",
            "gridcolor": "white",
            "gridwidth": 2,
            "linecolor": "white",
            "showbackground": true,
            "ticks": "",
            "zerolinecolor": "white"
           },
           "yaxis": {
            "backgroundcolor": "#E5ECF6",
            "gridcolor": "white",
            "gridwidth": 2,
            "linecolor": "white",
            "showbackground": true,
            "ticks": "",
            "zerolinecolor": "white"
           },
           "zaxis": {
            "backgroundcolor": "#E5ECF6",
            "gridcolor": "white",
            "gridwidth": 2,
            "linecolor": "white",
            "showbackground": true,
            "ticks": "",
            "zerolinecolor": "white"
           }
          },
          "shapedefaults": {
           "line": {
            "color": "#2a3f5f"
           }
          },
          "ternary": {
           "aaxis": {
            "gridcolor": "white",
            "linecolor": "white",
            "ticks": ""
           },
           "baxis": {
            "gridcolor": "white",
            "linecolor": "white",
            "ticks": ""
           },
           "bgcolor": "#E5ECF6",
           "caxis": {
            "gridcolor": "white",
            "linecolor": "white",
            "ticks": ""
           }
          },
          "title": {
           "x": 0.05
          },
          "xaxis": {
           "automargin": true,
           "gridcolor": "white",
           "linecolor": "white",
           "ticks": "",
           "title": {
            "standoff": 15
           },
           "zerolinecolor": "white",
           "zerolinewidth": 2
          },
          "yaxis": {
           "automargin": true,
           "gridcolor": "white",
           "linecolor": "white",
           "ticks": "",
           "title": {
            "standoff": 15
           },
           "zerolinecolor": "white",
           "zerolinewidth": 2
          }
         }
        },
        "title": {
         "text": "Trisurf Plot"
        },
        "width": 800
       }
      },
      "text/html": [
       "<div>                            <div id=\"b700c97a-7bbb-4c4d-b901-1e0f5799bc6f\" class=\"plotly-graph-div\" style=\"height:800px; width:800px;\"></div>            <script type=\"text/javascript\">                require([\"plotly\"], function(Plotly) {                    window.PLOTLYENV=window.PLOTLYENV || {};                                    if (document.getElementById(\"b700c97a-7bbb-4c4d-b901-1e0f5799bc6f\")) {                    Plotly.newPlot(                        \"b700c97a-7bbb-4c4d-b901-1e0f5799bc6f\",                        [{\"facecolor\":[\"rgb(150, 0, 90)\",\"rgb(0, 16, 236)\",\"rgb(150, 0, 90)\",\"rgb(0, 16, 236)\",\"rgb(44, 255, 150)\",\"rgb(0, 69, 255)\",\"rgb(44, 255, 150)\",\"rgb(0, 69, 255)\",\"rgb(150, 0, 90)\",\"rgb(0, 16, 236)\",\"rgb(255, 192, 0)\",\"rgb(255, 0, 0)\",\"rgb(44, 255, 150)\",\"rgb(0, 69, 255)\",\"rgb(44, 255, 150)\",\"rgb(0, 69, 255)\",\"rgb(150, 0, 90)\",\"rgb(0, 16, 236)\",\"rgb(255, 0, 0)\",\"rgb(255, 192, 0)\",\"rgb(44, 255, 150)\",\"rgb(0, 69, 255)\",\"rgb(44, 255, 150)\",\"rgb(0, 69, 255)\",\"rgb(255, 192, 0)\",\"rgb(255, 0, 0)\",\"rgb(255, 192, 0)\",\"rgb(255, 0, 0)\",\"rgb(44, 255, 150)\",\"rgb(0, 69, 255)\",\"rgb(44, 255, 150)\",\"rgb(0, 69, 255)\"],\"i\":[1,5,15,21,11,5,15,11,9,3,7,11,1,7,7,3,23,19,17,11,17,21,23,17,13,7,17,13,9,13,13,19],\"j\":[5,1,21,15,5,11,11,15,3,9,11,7,7,1,3,7,19,23,11,17,21,17,17,23,7,13,13,17,13,9,19,13],\"k\":[0,6,20,16,6,10,16,10,4,8,6,12,6,2,8,2,24,18,12,16,16,22,18,22,8,12,18,12,8,14,18,14],\"name\":\"\",\"x\":[0.0,0.25,0.5,0.75,1.0,0.0,0.25,0.5,0.75,1.0,0.0,0.25,0.5,0.75,1.0,0.0,0.25,0.5,0.75,1.0,0.0,0.25,0.5,0.75,1.0],\"y\":[0.0,0.0,0.0,0.0,0.0,0.25,0.25,0.25,0.25,0.25,0.5,0.5,0.5,0.5,0.5,0.75,0.75,0.75,0.75,0.75,1.0,1.0,1.0,1.0,1.0],\"z\":[0.0,0.0,0.0,0.0,0.0,0.0,0.4999999999999999,0.7071067811865475,0.5,8.659560562354932e-17,0.0,0.7071067811865475,1.0,0.7071067811865476,1.2246467991473532e-16,0.0,0.5,0.7071067811865476,0.5000000000000001,8.659560562354934e-17,0.0,8.659560562354932e-17,1.2246467991473532e-16,8.659560562354934e-17,1.4997597826618576e-32],\"type\":\"mesh3d\"},{\"line\":{\"color\":\"rgb(50, 50, 50)\",\"width\":1.5},\"mode\":\"lines\",\"showlegend\":false,\"x\":[0.25,0.0,0.0,0.25,null,0.0,0.25,0.25,0.0,null,0.0,0.25,0.0,0.0,null,0.25,0.0,0.25,0.25,null,0.25,0.0,0.25,0.25,null,0.0,0.25,0.0,0.0,null,0.0,0.25,0.25,0.0,null,0.25,0.0,0.0,0.25,null,1.0,0.75,1.0,1.0,null,0.75,1.0,0.75,0.75,null,0.5,0.25,0.25,0.5,null,0.25,0.5,0.5,0.25,null,0.25,0.5,0.25,0.25,null,0.5,0.25,0.5,0.5,null,0.5,0.75,0.75,0.5,null,0.75,0.5,0.5,0.75,null,0.75,1.0,1.0,0.75,null,1.0,0.75,0.75,1.0,null,0.5,0.25,0.5,0.5,null,0.25,0.5,0.25,0.25,null,0.5,0.25,0.25,0.5,null,0.25,0.5,0.5,0.25,null,0.75,0.5,0.75,0.75,null,0.5,0.75,0.5,0.5,null,0.75,0.5,0.75,0.75,null,0.5,0.75,0.5,0.5,null,0.5,0.75,0.75,0.5,null,0.75,0.5,0.5,0.75,null,1.0,0.75,0.75,1.0,null,0.75,1.0,1.0,0.75,null,0.75,1.0,0.75,0.75,null,1.0,0.75,1.0,1.0,null],\"y\":[0.0,0.25,0.0,0.0,null,0.25,0.0,0.25,0.25,null,0.75,1.0,1.0,0.75,null,1.0,0.75,0.75,1.0,null,0.5,0.25,0.25,0.5,null,0.25,0.5,0.5,0.25,null,0.75,0.5,0.75,0.75,null,0.5,0.75,0.5,0.5,null,0.25,0.0,0.0,0.25,null,0.0,0.25,0.25,0.0,null,0.25,0.5,0.25,0.25,null,0.5,0.25,0.5,0.5,null,0.0,0.25,0.25,0.0,null,0.25,0.0,0.0,0.25,null,0.25,0.0,0.25,0.25,null,0.0,0.25,0.0,0.0,null,1.0,0.75,1.0,1.0,null,0.75,1.0,0.75,0.75,null,0.75,0.5,0.5,0.75,null,0.5,0.75,0.75,0.5,null,0.75,1.0,0.75,0.75,null,1.0,0.75,1.0,1.0,null,1.0,0.75,0.75,1.0,null,0.75,1.0,1.0,0.75,null,0.5,0.25,0.25,0.5,null,0.25,0.5,0.5,0.25,null,0.75,0.5,0.75,0.75,null,0.5,0.75,0.5,0.5,null,0.25,0.5,0.25,0.25,null,0.5,0.25,0.5,0.5,null,0.5,0.75,0.75,0.5,null,0.75,0.5,0.5,0.75,null],\"z\":[0.0,0.0,0.0,0.0,null,0.0,0.0,0.4999999999999999,0.0,null,0.0,8.659560562354932e-17,0.0,0.0,null,8.659560562354932e-17,0.0,0.5,8.659560562354932e-17,null,0.7071067811865475,0.0,0.4999999999999999,0.7071067811865475,null,0.0,0.7071067811865475,0.0,0.0,null,0.0,0.7071067811865475,0.5,0.0,null,0.7071067811865475,0.0,0.0,0.7071067811865475,null,8.659560562354932e-17,0.0,0.0,8.659560562354932e-17,null,0.0,8.659560562354932e-17,0.5,0.0,null,0.7071067811865475,0.7071067811865475,0.4999999999999999,0.7071067811865475,null,0.7071067811865475,0.7071067811865475,1.0,0.7071067811865475,null,0.0,0.7071067811865475,0.4999999999999999,0.0,null,0.7071067811865475,0.0,0.0,0.7071067811865475,null,0.7071067811865475,0.0,0.5,0.7071067811865475,null,0.0,0.7071067811865475,0.0,0.0,null,8.659560562354934e-17,8.659560562354934e-17,1.4997597826618576e-32,8.659560562354934e-17,null,8.659560562354934e-17,8.659560562354934e-17,0.5000000000000001,8.659560562354934e-17,null,0.7071067811865476,0.7071067811865475,1.0,0.7071067811865476,null,0.7071067811865475,0.7071067811865476,0.5,0.7071067811865475,null,0.7071067811865476,8.659560562354932e-17,0.5,0.7071067811865476,null,8.659560562354932e-17,0.7071067811865476,1.2246467991473532e-16,8.659560562354932e-17,null,8.659560562354934e-17,0.7071067811865476,0.5000000000000001,8.659560562354934e-17,null,0.7071067811865476,8.659560562354934e-17,1.2246467991473532e-16,0.7071067811865476,null,0.7071067811865476,0.7071067811865475,0.5,0.7071067811865476,null,0.7071067811865475,0.7071067811865476,1.0,0.7071067811865475,null,0.7071067811865476,0.7071067811865476,0.5000000000000001,0.7071067811865476,null,0.7071067811865476,0.7071067811865476,1.0,0.7071067811865476,null,8.659560562354932e-17,0.7071067811865476,0.5,8.659560562354932e-17,null,0.7071067811865476,8.659560562354932e-17,1.2246467991473532e-16,0.7071067811865476,null,0.7071067811865476,8.659560562354934e-17,0.5000000000000001,0.7071067811865476,null,8.659560562354934e-17,0.7071067811865476,1.2246467991473532e-16,8.659560562354934e-17,null],\"type\":\"scatter3d\"},{\"hoverinfo\":\"none\",\"marker\":{\"color\":[0.0,0.8047378541243649],\"colorscale\":[[0,\"rgb(150, 0, 90)\"],[0.125,\"rgb(0, 0, 200)\"],[0.25,\"rgb(0, 25, 255)\"],[0.375,\"rgb(0, 152, 255)\"],[0.5,\"rgb(44, 255, 150)\"],[0.625,\"rgb(151, 255, 0)\"],[0.75,\"rgb(255, 234, 0)\"],[0.875,\"rgb(255, 111, 0)\"],[1,\"rgb(255, 0, 0)\"]],\"showscale\":true,\"size\":0.1},\"mode\":\"markers\",\"showlegend\":false,\"x\":[0.0],\"y\":[0.0],\"z\":[0.0],\"type\":\"scatter3d\"}],                        {\"height\":800,\"scene\":{\"aspectratio\":{\"x\":1,\"y\":1,\"z\":1},\"xaxis\":{\"backgroundcolor\":\"rgb(230, 230, 230)\",\"gridcolor\":\"rgb(255, 255, 255)\",\"showbackground\":true,\"zerolinecolor\":\"rgb(255, 255, 255)\"},\"yaxis\":{\"backgroundcolor\":\"rgb(230, 230, 230)\",\"gridcolor\":\"rgb(255, 255, 255)\",\"showbackground\":true,\"zerolinecolor\":\"rgb(255, 255, 255)\"},\"zaxis\":{\"backgroundcolor\":\"rgb(230, 230, 230)\",\"gridcolor\":\"rgb(255, 255, 255)\",\"showbackground\":true,\"zerolinecolor\":\"rgb(255, 255, 255)\"}},\"title\":{\"text\":\"Trisurf Plot\"},\"width\":800,\"template\":{\"data\":{\"histogram2dcontour\":[{\"type\":\"histogram2dcontour\",\"colorbar\":{\"outlinewidth\":0,\"ticks\":\"\"},\"colorscale\":[[0.0,\"#0d0887\"],[0.1111111111111111,\"#46039f\"],[0.2222222222222222,\"#7201a8\"],[0.3333333333333333,\"#9c179e\"],[0.4444444444444444,\"#bd3786\"],[0.5555555555555556,\"#d8576b\"],[0.6666666666666666,\"#ed7953\"],[0.7777777777777778,\"#fb9f3a\"],[0.8888888888888888,\"#fdca26\"],[1.0,\"#f0f921\"]]}],\"choropleth\":[{\"type\":\"choropleth\",\"colorbar\":{\"outlinewidth\":0,\"ticks\":\"\"}}],\"histogram2d\":[{\"type\":\"histogram2d\",\"colorbar\":{\"outlinewidth\":0,\"ticks\":\"\"},\"colorscale\":[[0.0,\"#0d0887\"],[0.1111111111111111,\"#46039f\"],[0.2222222222222222,\"#7201a8\"],[0.3333333333333333,\"#9c179e\"],[0.4444444444444444,\"#bd3786\"],[0.5555555555555556,\"#d8576b\"],[0.6666666666666666,\"#ed7953\"],[0.7777777777777778,\"#fb9f3a\"],[0.8888888888888888,\"#fdca26\"],[1.0,\"#f0f921\"]]}],\"heatmap\":[{\"type\":\"heatmap\",\"colorbar\":{\"outlinewidth\":0,\"ticks\":\"\"},\"colorscale\":[[0.0,\"#0d0887\"],[0.1111111111111111,\"#46039f\"],[0.2222222222222222,\"#7201a8\"],[0.3333333333333333,\"#9c179e\"],[0.4444444444444444,\"#bd3786\"],[0.5555555555555556,\"#d8576b\"],[0.6666666666666666,\"#ed7953\"],[0.7777777777777778,\"#fb9f3a\"],[0.8888888888888888,\"#fdca26\"],[1.0,\"#f0f921\"]]}],\"heatmapgl\":[{\"type\":\"heatmapgl\",\"colorbar\":{\"outlinewidth\":0,\"ticks\":\"\"},\"colorscale\":[[0.0,\"#0d0887\"],[0.1111111111111111,\"#46039f\"],[0.2222222222222222,\"#7201a8\"],[0.3333333333333333,\"#9c179e\"],[0.4444444444444444,\"#bd3786\"],[0.5555555555555556,\"#d8576b\"],[0.6666666666666666,\"#ed7953\"],[0.7777777777777778,\"#fb9f3a\"],[0.8888888888888888,\"#fdca26\"],[1.0,\"#f0f921\"]]}],\"contourcarpet\":[{\"type\":\"contourcarpet\",\"colorbar\":{\"outlinewidth\":0,\"ticks\":\"\"}}],\"contour\":[{\"type\":\"contour\",\"colorbar\":{\"outlinewidth\":0,\"ticks\":\"\"},\"colorscale\":[[0.0,\"#0d0887\"],[0.1111111111111111,\"#46039f\"],[0.2222222222222222,\"#7201a8\"],[0.3333333333333333,\"#9c179e\"],[0.4444444444444444,\"#bd3786\"],[0.5555555555555556,\"#d8576b\"],[0.6666666666666666,\"#ed7953\"],[0.7777777777777778,\"#fb9f3a\"],[0.8888888888888888,\"#fdca26\"],[1.0,\"#f0f921\"]]}],\"surface\":[{\"type\":\"surface\",\"colorbar\":{\"outlinewidth\":0,\"ticks\":\"\"},\"colorscale\":[[0.0,\"#0d0887\"],[0.1111111111111111,\"#46039f\"],[0.2222222222222222,\"#7201a8\"],[0.3333333333333333,\"#9c179e\"],[0.4444444444444444,\"#bd3786\"],[0.5555555555555556,\"#d8576b\"],[0.6666666666666666,\"#ed7953\"],[0.7777777777777778,\"#fb9f3a\"],[0.8888888888888888,\"#fdca26\"],[1.0,\"#f0f921\"]]}],\"mesh3d\":[{\"type\":\"mesh3d\",\"colorbar\":{\"outlinewidth\":0,\"ticks\":\"\"}}],\"scatter\":[{\"fillpattern\":{\"fillmode\":\"overlay\",\"size\":10,\"solidity\":0.2},\"type\":\"scatter\"}],\"parcoords\":[{\"type\":\"parcoords\",\"line\":{\"colorbar\":{\"outlinewidth\":0,\"ticks\":\"\"}}}],\"scatterpolargl\":[{\"type\":\"scatterpolargl\",\"marker\":{\"colorbar\":{\"outlinewidth\":0,\"ticks\":\"\"}}}],\"bar\":[{\"error_x\":{\"color\":\"#2a3f5f\"},\"error_y\":{\"color\":\"#2a3f5f\"},\"marker\":{\"line\":{\"color\":\"#E5ECF6\",\"width\":0.5},\"pattern\":{\"fillmode\":\"overlay\",\"size\":10,\"solidity\":0.2}},\"type\":\"bar\"}],\"scattergeo\":[{\"type\":\"scattergeo\",\"marker\":{\"colorbar\":{\"outlinewidth\":0,\"ticks\":\"\"}}}],\"scatterpolar\":[{\"type\":\"scatterpolar\",\"marker\":{\"colorbar\":{\"outlinewidth\":0,\"ticks\":\"\"}}}],\"histogram\":[{\"marker\":{\"pattern\":{\"fillmode\":\"overlay\",\"size\":10,\"solidity\":0.2}},\"type\":\"histogram\"}],\"scattergl\":[{\"type\":\"scattergl\",\"marker\":{\"colorbar\":{\"outlinewidth\":0,\"ticks\":\"\"}}}],\"scatter3d\":[{\"type\":\"scatter3d\",\"line\":{\"colorbar\":{\"outlinewidth\":0,\"ticks\":\"\"}},\"marker\":{\"colorbar\":{\"outlinewidth\":0,\"ticks\":\"\"}}}],\"scattermapbox\":[{\"type\":\"scattermapbox\",\"marker\":{\"colorbar\":{\"outlinewidth\":0,\"ticks\":\"\"}}}],\"scatterternary\":[{\"type\":\"scatterternary\",\"marker\":{\"colorbar\":{\"outlinewidth\":0,\"ticks\":\"\"}}}],\"scattercarpet\":[{\"type\":\"scattercarpet\",\"marker\":{\"colorbar\":{\"outlinewidth\":0,\"ticks\":\"\"}}}],\"carpet\":[{\"aaxis\":{\"endlinecolor\":\"#2a3f5f\",\"gridcolor\":\"white\",\"linecolor\":\"white\",\"minorgridcolor\":\"white\",\"startlinecolor\":\"#2a3f5f\"},\"baxis\":{\"endlinecolor\":\"#2a3f5f\",\"gridcolor\":\"white\",\"linecolor\":\"white\",\"minorgridcolor\":\"white\",\"startlinecolor\":\"#2a3f5f\"},\"type\":\"carpet\"}],\"table\":[{\"cells\":{\"fill\":{\"color\":\"#EBF0F8\"},\"line\":{\"color\":\"white\"}},\"header\":{\"fill\":{\"color\":\"#C8D4E3\"},\"line\":{\"color\":\"white\"}},\"type\":\"table\"}],\"barpolar\":[{\"marker\":{\"line\":{\"color\":\"#E5ECF6\",\"width\":0.5},\"pattern\":{\"fillmode\":\"overlay\",\"size\":10,\"solidity\":0.2}},\"type\":\"barpolar\"}],\"pie\":[{\"automargin\":true,\"type\":\"pie\"}]},\"layout\":{\"autotypenumbers\":\"strict\",\"colorway\":[\"#636efa\",\"#EF553B\",\"#00cc96\",\"#ab63fa\",\"#FFA15A\",\"#19d3f3\",\"#FF6692\",\"#B6E880\",\"#FF97FF\",\"#FECB52\"],\"font\":{\"color\":\"#2a3f5f\"},\"hovermode\":\"closest\",\"hoverlabel\":{\"align\":\"left\"},\"paper_bgcolor\":\"white\",\"plot_bgcolor\":\"#E5ECF6\",\"polar\":{\"bgcolor\":\"#E5ECF6\",\"angularaxis\":{\"gridcolor\":\"white\",\"linecolor\":\"white\",\"ticks\":\"\"},\"radialaxis\":{\"gridcolor\":\"white\",\"linecolor\":\"white\",\"ticks\":\"\"}},\"ternary\":{\"bgcolor\":\"#E5ECF6\",\"aaxis\":{\"gridcolor\":\"white\",\"linecolor\":\"white\",\"ticks\":\"\"},\"baxis\":{\"gridcolor\":\"white\",\"linecolor\":\"white\",\"ticks\":\"\"},\"caxis\":{\"gridcolor\":\"white\",\"linecolor\":\"white\",\"ticks\":\"\"}},\"coloraxis\":{\"colorbar\":{\"outlinewidth\":0,\"ticks\":\"\"}},\"colorscale\":{\"sequential\":[[0.0,\"#0d0887\"],[0.1111111111111111,\"#46039f\"],[0.2222222222222222,\"#7201a8\"],[0.3333333333333333,\"#9c179e\"],[0.4444444444444444,\"#bd3786\"],[0.5555555555555556,\"#d8576b\"],[0.6666666666666666,\"#ed7953\"],[0.7777777777777778,\"#fb9f3a\"],[0.8888888888888888,\"#fdca26\"],[1.0,\"#f0f921\"]],\"sequentialminus\":[[0.0,\"#0d0887\"],[0.1111111111111111,\"#46039f\"],[0.2222222222222222,\"#7201a8\"],[0.3333333333333333,\"#9c179e\"],[0.4444444444444444,\"#bd3786\"],[0.5555555555555556,\"#d8576b\"],[0.6666666666666666,\"#ed7953\"],[0.7777777777777778,\"#fb9f3a\"],[0.8888888888888888,\"#fdca26\"],[1.0,\"#f0f921\"]],\"diverging\":[[0,\"#8e0152\"],[0.1,\"#c51b7d\"],[0.2,\"#de77ae\"],[0.3,\"#f1b6da\"],[0.4,\"#fde0ef\"],[0.5,\"#f7f7f7\"],[0.6,\"#e6f5d0\"],[0.7,\"#b8e186\"],[0.8,\"#7fbc41\"],[0.9,\"#4d9221\"],[1,\"#276419\"]]},\"xaxis\":{\"gridcolor\":\"white\",\"linecolor\":\"white\",\"ticks\":\"\",\"title\":{\"standoff\":15},\"zerolinecolor\":\"white\",\"automargin\":true,\"zerolinewidth\":2},\"yaxis\":{\"gridcolor\":\"white\",\"linecolor\":\"white\",\"ticks\":\"\",\"title\":{\"standoff\":15},\"zerolinecolor\":\"white\",\"automargin\":true,\"zerolinewidth\":2},\"scene\":{\"xaxis\":{\"backgroundcolor\":\"#E5ECF6\",\"gridcolor\":\"white\",\"linecolor\":\"white\",\"showbackground\":true,\"ticks\":\"\",\"zerolinecolor\":\"white\",\"gridwidth\":2},\"yaxis\":{\"backgroundcolor\":\"#E5ECF6\",\"gridcolor\":\"white\",\"linecolor\":\"white\",\"showbackground\":true,\"ticks\":\"\",\"zerolinecolor\":\"white\",\"gridwidth\":2},\"zaxis\":{\"backgroundcolor\":\"#E5ECF6\",\"gridcolor\":\"white\",\"linecolor\":\"white\",\"showbackground\":true,\"ticks\":\"\",\"zerolinecolor\":\"white\",\"gridwidth\":2}},\"shapedefaults\":{\"line\":{\"color\":\"#2a3f5f\"}},\"annotationdefaults\":{\"arrowcolor\":\"#2a3f5f\",\"arrowhead\":0,\"arrowwidth\":1},\"geo\":{\"bgcolor\":\"white\",\"landcolor\":\"#E5ECF6\",\"subunitcolor\":\"white\",\"showland\":true,\"showlakes\":true,\"lakecolor\":\"white\"},\"title\":{\"x\":0.05},\"mapbox\":{\"style\":\"light\"}}}},                        {\"responsive\": true}                    ).then(function(){\n",
       "                            \n",
       "var gd = document.getElementById('b700c97a-7bbb-4c4d-b901-1e0f5799bc6f');\n",
       "var x = new MutationObserver(function (mutations, observer) {{\n",
       "        var display = window.getComputedStyle(gd).display;\n",
       "        if (!display || display === 'none') {{\n",
       "            console.log([gd, 'removed!']);\n",
       "            Plotly.purge(gd);\n",
       "            observer.disconnect();\n",
       "        }}\n",
       "}});\n",
       "\n",
       "// Listen for the removal of the full notebook cells\n",
       "var notebookContainer = gd.closest('#notebook-container');\n",
       "if (notebookContainer) {{\n",
       "    x.observe(notebookContainer, {childList: true});\n",
       "}}\n",
       "\n",
       "// Listen for the clearing of the current output cell\n",
       "var outputEl = gd.closest('.output');\n",
       "if (outputEl) {{\n",
       "    x.observe(outputEl, {childList: true});\n",
       "}}\n",
       "\n",
       "                        })                };                });            </script>        </div>"
      ]
     },
     "metadata": {},
     "output_type": "display_data"
    }
   ],
   "source": [
    "fig1.show()"
   ]
  },
  {
   "cell_type": "code",
   "execution_count": null,
   "id": "4b474c6e",
   "metadata": {},
   "outputs": [],
   "source": []
  },
  {
   "cell_type": "code",
   "execution_count": null,
   "id": "d244da36",
   "metadata": {},
   "outputs": [],
   "source": []
  },
  {
   "cell_type": "code",
   "execution_count": null,
   "id": "5f3212b0",
   "metadata": {},
   "outputs": [],
   "source": []
  },
  {
   "cell_type": "code",
   "execution_count": null,
   "id": "03ad9bdf",
   "metadata": {},
   "outputs": [],
   "source": []
  }
 ],
 "metadata": {
  "kernelspec": {
   "display_name": "Python 3 (ipykernel)",
   "language": "python",
   "name": "python3"
  },
  "language_info": {
   "codemirror_mode": {
    "name": "ipython",
    "version": 3
   },
   "file_extension": ".py",
   "mimetype": "text/x-python",
   "name": "python",
   "nbconvert_exporter": "python",
   "pygments_lexer": "ipython3",
   "version": "3.9.13"
  }
 },
 "nbformat": 4,
 "nbformat_minor": 5
}
